{
 "cells": [
  {
   "cell_type": "code",
   "execution_count": 3,
   "id": "ca83f6bf",
   "metadata": {},
   "outputs": [
    {
     "name": "stdout",
     "output_type": "stream",
     "text": [
      "Close-up of a brown-and-white goat making a goofy face, teeth showing as it grins. Pink nose, white fur around the mouth, ears upright, eyes wide. Grass field background with another goat partially visible behind.\n"
     ]
    }
   ],
   "source": [
    "import minillmlib as mll\n",
    "import os\n",
    "from dotenv import load_dotenv\n",
    "load_dotenv()\n",
    "\n",
    "node = mll.ChatNode(content=\"Please describe this image. Don't forget any details (colors, actions, expressions, background whatever).Don't talk before or after, just give me the description that's it. Try to keep it as brief as possible though.\", image_data=mll.ImageData(images=[\n",
    "  \"./hqdefault.jpg\"\n",
    "]))\n",
    "\n",
    "gi = mll.GeneratorInfo(\n",
    "  model=\"openai/gpt-5-nano\",\n",
    "  api_url=\"https://openrouter.ai/api/v1/chat/completions\",\n",
    "  api_key=os.getenv(\"OPENROUTER_API_KEY\"),  # Set your OpenRouter API key\n",
    "  _format=\"url\",  # Use URL format for OpenRouter\n",
    "  completion_parameters=mll.GeneratorCompletionParameters(\n",
    "    temperature=0.7,\n",
    "    max_tokens=1024,\n",
    "  )\n",
    ")\n",
    "\n",
    "result = node.complete_one(mll.NodeCompletionParameters(\n",
    "  gi=gi,\n",
    "  exp_back_off=False,\n",
    "  retry=1\n",
    "))\n",
    "print(result.content)"
   ]
  },
  {
   "cell_type": "code",
   "execution_count": null,
   "id": "1a320db3",
   "metadata": {},
   "outputs": [],
   "source": []
  }
 ],
 "metadata": {
  "kernelspec": {
   "display_name": "BET-dev",
   "language": "python",
   "name": "python3"
  },
  "language_info": {
   "codemirror_mode": {
    "name": "ipython",
    "version": 3
   },
   "file_extension": ".py",
   "mimetype": "text/x-python",
   "name": "python",
   "nbconvert_exporter": "python",
   "pygments_lexer": "ipython3",
   "version": "3.12.0"
  }
 },
 "nbformat": 4,
 "nbformat_minor": 5
}
